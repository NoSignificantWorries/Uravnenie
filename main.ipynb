{
 "cells": [
  {
   "cell_type": "markdown",
   "id": "2f085fa1",
   "metadata": {},
   "source": [
    "# Решене уравнения"
   ]
  },
  {
   "cell_type": "code",
   "execution_count": 1,
   "id": "c606bf4b",
   "metadata": {},
   "outputs": [],
   "source": [
    "import random\n",
    "\n",
    "import numpy as np\n",
    "import sympy as sp\n",
    "import scipy\n",
    "import matplotlib.pyplot as plt"
   ]
  },
  {
   "cell_type": "markdown",
   "id": "b570b02d",
   "metadata": {},
   "source": [
    "Дано уравнение:\n",
    "$$\n",
    "F(h, R, a, c, g) = R \\cdot ln(\\sqrt{4h^2+a^2}) - ln(a) - \\frac{c}{\\sqrt{4h^2+a^2}} - \\frac{2hR}{\\sqrt{4h^2+a^2}} + \\frac{4h^2g}{3a} + 1=0\n",
    "$$\n",
    "\n",
    "Задан также интервал $[h_{min} \\ldots h_{max}]$, на котором нужно найти численное решение."
   ]
  },
  {
   "cell_type": "code",
   "execution_count": 2,
   "id": "fdd18b46",
   "metadata": {},
   "outputs": [
    {
     "name": "stdout",
     "output_type": "stream",
     "text": [
      "Function: R*log(sqrt(a**2 + 4*h**2)) + 4*a*g*h**2/3 - log(a) + 1 - (2*R*h + c)/sqrt(a**2 + 4*h**2)\n",
      "Test values: 2078.87842879768\n",
      "\n",
      "Simple function: -2*R*h/sqrt(a**2 + 4*h**2) + R*log(a**2 + 4*h**2)/2 + 4*a*g*h**2/3 - c/sqrt(a**2 + 4*h**2) - log(a) + 1\n",
      "Test values: 2078.87842879768\n",
      "\n",
      "Numeric function: (-19.9244168545753*h + sqrt(4*h**2 + 61.6273847784698)*(96.9634972382898*h**2 + 4.98110421364382*log(4*h**2 + 61.6273847784698) - 1.06055316492242) - 6.84917419626845)/sqrt(4*h**2 + 61.6273847784698)\n",
      "\n",
      "Root didn't found\n"
     ]
    }
   ],
   "source": [
    "def F(h, R, a, c, g):\n",
    "    subF = sp.sqrt(4 * h**2 + a**2)\n",
    "    return R * sp.log(subF) - sp.log(a) - (c + 2 * h * R) / subF + 4 * h**2 * g / 3 * a + 1\n",
    "\n",
    "\n",
    "# 1\n",
    "h, R, a, c, g = sp.symbols(\"h R a c g\")\n",
    "h_num = random.random() * 10\n",
    "R_num = random.random() * 10\n",
    "a_num = random.random() * 10\n",
    "c_num = random.random() * 10\n",
    "g_num = random.random() * 10\n",
    "\n",
    "symbols = {\n",
    "    h: h_num,\n",
    "    R: R_num,\n",
    "    a: a_num,\n",
    "    c: c_num,\n",
    "    g: g_num\n",
    "}\n",
    "\n",
    "func = F(h, R, a, c, g)\n",
    "print(\"Function:\", func)\n",
    "print(\"Test values:\", func.subs(symbols))\n",
    "print()\n",
    "\n",
    "# 2\n",
    "func_simple = sp.simplify(func)\n",
    "print(\"Simple function:\", func_simple)\n",
    "print(\"Test values:\", func_simple.subs(symbols))\n",
    "print()\n",
    "\n",
    "# 3\n",
    "my_symbols = {\n",
    "    R: R_num,\n",
    "    a: a_num,\n",
    "    c: c_num,\n",
    "    g: g_num\n",
    "}\n",
    "\n",
    "my_func = func_simple.subs(my_symbols)\n",
    "my_func = sp.simplify(my_func)\n",
    "print(\"Numeric function:\", my_func)\n",
    "print()\n",
    "\n",
    "# 4\n",
    "my_F_num = sp.lambdify(h, my_func, modules=['numpy'])\n",
    "\n",
    "# 5\n",
    "h_min = 0.0\n",
    "h_max = 10.0\n",
    "\n",
    "try:\n",
    "    root = scipy.optimize.brentq(my_F_num, h_min, h_max)\n",
    "    err = my_F_num(root)\n",
    "    print(\"h-root:\", root)\n",
    "    print(\"Error:\", err, f\"{err:.6f}\")\n",
    "except ValueError:\n",
    "    print(\"Root didn't found\")"
   ]
  },
  {
   "cell_type": "markdown",
   "id": "0cbe77f3",
   "metadata": {},
   "source": [
    "#### Основные этапы:\n",
    "\n",
    "##### 1:\n",
    "Создаём символы из sympy и случайные численные значения символов.\n",
    "##### 2:\n",
    "Упрощаем основное выражение если возможно и проверяем правильность за счёт подстановки данных.\n",
    "##### 3:\n",
    "Задаём реальные значения для вычисления (конкретно здесь чисто рандом) и упрощаем уже численно.\n",
    "##### 4:\n",
    "Создаём лямбда-функцию относительно h.\n",
    "##### 5:\n",
    "Вычисляем корень относительно заданного интервала для h.\n",
    "\n",
    "#### Кратко про brentq от GPT:\n",
    "\n",
    "•   Метод заключения в интервал: brentq является методом заключения в интервал. Это означает, что для его работы необходимо предоставить начальный интервал [a, b], на котором функция меняет знак. Другими словами, f(a) и f(b) должны иметь разные знаки (один положительный, другой отрицательный). Это гарантирует, что между a и b существует хотя бы один корень.\n",
    "\n",
    "•   Комбинация методов: brentq является комбинацией нескольких методов:\n",
    "    *   Метод бисекции (половинного деления): Этот метод гарантирует сходимость, но сходится относительно медленно. Метод бисекции делит интервал пополам и выбирает ту половину, на которой функция меняет знак.\n",
    "    *   Метод секущих: Этот метод обычно сходится быстрее, чем метод бисекции, но не гарантирует сходимость. Метод секущих использует линейную интерполяцию для аппроксимации корня.\n",
    "    *   Обратная квадратичная интерполяция: Этот метод также может сходиться быстрее, чем метод бисекции, но также не гарантирует сходимость.\n",
    "\n",
    "    brentq использует метод бисекции в качестве запасного варианта, чтобы гарантировать сходимость, и пытается использовать более быстрые методы (метод секущих и обратную квадратичную интерполяцию) для ускорения сходимости.\n",
    "\n",
    "•   Гарантированная сходимость: Если функция непрерывна на интервале [a, b] и f(a) и f(b) имеют разные знаки, то метод brentq гарантированно найдет корень на этом интервале (или приблизится к нему с заданной точностью).\n",
    "\n",
    "•   Эффективность: brentq обычно сходится очень быстро, особенно по сравнению с методом бисекции.\n",
    "\n",
    "Как работает scipy.optimize.brentq:\n",
    "\n",
    "1.  Проверка начального интервала: Функция проверяет, что f(a) и f(b) имеют разные знаки. Если это не так, возникает ошибка ValueError, поскольку метод не может гарантировать наличие корня на этом интервале.\n",
    "\n",
    "2.  Итеративный процесс: Функция выполняет итерации, на каждой из которых она пытается улучшить приближение к корню. На каждой итерации функция:\n",
    "    *   Проверяет, можно ли использовать метод секущих или обратную квадратичную интерполяцию. Если эти методы дают разумное приближение к корню, они используются.\n",
    "    *   Если метод секущих или обратная квадратичная интерполяция не дают разумного приближения, используется метод бисекции.\n",
    "    *   Интервал [a, b] обновляется на основе полученного приближения к корню.\n",
    "\n",
    "3.  Условия остановки: Итерации продолжаются до тех пор, пока не будет выполнено одно из следующих условий:\n",
    "    *   Достигнута заданная точность (определяется параметрами xtol и rtol).\n",
    "    *   Достигнуто максимальное количество итераций (определяется параметром maxiter).\n",
    "\n",
    "Преимущества brentq:\n",
    "\n",
    "•   Надежность: Гарантированная сходимость при соблюдении условий.\n",
    "•   Эффективность: Обычно сходится быстро.\n",
    "•   Широкая доступность: Реализован в SciPy, популярной библиотеке для научных вычислений на Python.\n",
    "\n",
    "Недостатки brentq:\n",
    "\n",
    "•   Требуется начальный интервал, на котором функция меняет знак.\n",
    "•   Не находит комплексные корни.\n",
    "•   Не может найти корни кратной четности (например, корень x=0 для функции f(x) = x^2), так как функция не меняет знак вблизи этих корней.\n"
   ]
  },
  {
   "cell_type": "markdown",
   "id": "68774299",
   "metadata": {},
   "source": [
    "Ниже предоставлен пример кода для запуска с конкретными значениями на основе упрощённой функции из пункта 2:\n",
    "$$\n",
    "F(h, R, a, c, g) = -\\frac{2Rh}{\\sqrt{a^2 + 4h^2}} + R \\cdot \\frac{ln(a^2 + 4h^2)}{2} + \\frac{4agh^2}{3} - \\frac{c}{\\sqrt{a^2 + 4h^2}} - ln(a) + 1\n",
    "$$"
   ]
  },
  {
   "cell_type": "code",
   "execution_count": 3,
   "id": "1d025e1b",
   "metadata": {},
   "outputs": [],
   "source": [
    "def sF(h, R, a, c, g):\n",
    "    return -2 * R * h / sp.sqrt(a**2 + 4 * h**2) + R * sp.log(a**2 + 4 * h**2) / 2 + 4 * a * g * h**2 / 3 - c / sp.sqrt(a**2 + 4 * h**2) - sp.log(a) + 1\n",
    "\n",
    "\n",
    "def main(H: tuple[int, int], R, a, c, g):\n",
    "    h = sp.symbols(\"h\")\n",
    "\n",
    "    func = sF(h, R, a, c, g)\n",
    "\n",
    "    func = sp.simplify(func)\n",
    "    F_num = sp.lambdify(h, func, modules=['numpy'])\n",
    "\n",
    "    h_min, h_max = H\n",
    "\n",
    "    X = np.linspace(h_min, h_max, 1000)\n",
    "    Y = F_num(X)\n",
    "\n",
    "    root = None\n",
    "    try:\n",
    "        root = scipy.optimize.brentq(F_num, h_min, h_max)\n",
    "        err = F_num(root)\n",
    "        print(\"h-root:\", root)\n",
    "        print(\"Error:\", err, f\"{err:.6f}\")\n",
    "    except ValueError:\n",
    "        print(\"Root didn't found\")\n",
    "\n",
    "    plt.plot(X, Y, label=f\"F(h, {R:.3f}, {a:.3f}, {c:.3f}, {g:.3f})\")\n",
    "    plt.axhline(y=0.0, color=\"r\", linestyle=\"--\", label=\"zero line\")\n",
    "    if root is not None:\n",
    "        plt.axvline(x=root, color=\"g\", label=f\"root: h={root:0.6f}\")\n",
    "    plt.legend()"
   ]
  },
  {
   "cell_type": "markdown",
   "id": "2ce9ea97",
   "metadata": {},
   "source": [
    "Пример запуска:"
   ]
  },
  {
   "cell_type": "code",
   "execution_count": 4,
   "id": "68c24aa0",
   "metadata": {},
   "outputs": [
    {
     "name": "stdout",
     "output_type": "stream",
     "text": [
      "h-root: 0.157995756206782\n",
      "Error: -1.551217520370498e-16 -0.000000\n"
     ]
    },
    {
     "data": {
      "image/png": "[encoded data removed]",
      "text/plain": [
       "<Figure size 640x480 with 1 Axes>"
      ]
     },
     "metadata": {},
     "output_type": "display_data"
    }
   ],
   "source": [
    "main((0.0, 10.0), 0.4, 5, 0.8, 0.9)"
   ]
  },
  {
   "cell_type": "code",
   "execution_count": 6,
   "id": "41b01272",
   "metadata": {},
   "outputs": [
    {
     "name": "stdout",
     "output_type": "stream",
     "text": [
      "[exp((3*R*LambertW((2*R*h + c)*exp((4*a*g*h**2 - 3*log(a) + 3)/R)**(1/3)/R) - 4*a*g*h**2 + 3*log(a) - 3)/(3*R)), exp((3*R*LambertW(-(1 - sqrt(3)*I)*(2*R*h + c)*exp((4*a*g*h**2 - 3*log(a) + 3)/R)**(1/3)/(2*R)) - 4*a*g*h**2 + 3*log(a) - 3)/(3*R)), exp((3*R*LambertW(-(1 + sqrt(3)*I)*(2*R*h + c)*exp((4*a*g*h**2 - 3*log(a) + 3)/R)**(1/3)/(2*R)) - 4*a*g*h**2 + 3*log(a) - 3)/(3*R))]\n"
     ]
    }
   ],
   "source": [
    "h, R, a, c, g = sp.symbols(\"h R a c g\")\n",
    "\n",
    "func = F(h, R, a, c, g)\n",
    "\n",
    "subF = sp.sqrt(4 * h**2 + a**2)\n",
    "\n",
    "s = sp.symbols(\"s\")\n",
    "\n",
    "func_s = func.subs(subF, s)\n",
    "\n",
    "print(sp.solve(func_s, s))"
   ]
  }
 ],
 "metadata": {
  "kernelspec": {
   "display_name": ".venv",
   "language": "python",
   "name": "python3"
  },
  "language_info": {
   "codemirror_mode": {
    "name": "ipython",
    "version": 3
   },
   "file_extension": ".py",
   "mimetype": "text/x-python",
   "name": "python",
   "nbconvert_exporter": "python",
   "pygments_lexer": "ipython3",
   "version": "3.12.3"
  }
 },
 "nbformat": 4,
 "nbformat_minor": 5
}
